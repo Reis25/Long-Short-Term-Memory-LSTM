{
  "nbformat": 4,
  "nbformat_minor": 0,
  "metadata": {
    "colab": {
      "name": "Hand-on_AM_LSTM.ipynb",
      "provenance": [],
      "authorship_tag": "ABX9TyM/0YQviruB5RfKyA/NPBAF",
      "include_colab_link": true
    },
    "kernelspec": {
      "name": "python3",
      "display_name": "Python 3"
    }
  },
  "cells": [
    {
      "cell_type": "markdown",
      "metadata": {
        "id": "view-in-github",
        "colab_type": "text"
      },
      "source": [
        "<a href=\"https://colab.research.google.com/github/Reis25/AprendizadoDeMquinas/blob/master/Hand_on_AM_LSTM.ipynb\" target=\"_parent\"><img src=\"https://colab.research.google.com/assets/colab-badge.svg\" alt=\"Open In Colab\"/></a>"
      ]
    },
    {
      "cell_type": "markdown",
      "metadata": {
        "id": "rUWF68e0uYL4",
        "colab_type": "text"
      },
      "source": [
        "Boa noite clã,\n",
        "\n",
        "Este é um tutorial basico de Machine Learning para iniciantes em LSTM. Você poderá aprender como implementar uma LSTM para o dataset seguindo o passo a passo do notebook. "
      ]
    },
    {
      "cell_type": "markdown",
      "metadata": {
        "id": "swSKigVKuivR",
        "colab_type": "text"
      },
      "source": [
        "**Dataset**\n",
        "\n",
        "Para este problema nos iremos tentar resolver um problema de predição de problemas relacionados a passagens aéreas. Neste dataset, encontraremos uma serie temporal onde para um dado mês do ano, a tarefa e predizer o número de problemas com passagens aérias em unidades de milhares. Os dados variam de Janeiro/1949 a Dezembro/1960 (12 anos), com 144 observações. O dataset está disponível no link: https://www.kaggle.com/andreazzini/international-airline-passengers.\n"
      ]
    },
    {
      "cell_type": "code",
      "metadata": {
        "id": "IFiHh9gqlar4",
        "colab_type": "code",
        "colab": {}
      },
      "source": [
        "import pandas\n",
        "dataset = pandas.read_csv('international-airline-passengers.csv', usecols=[1], engine='python', skipfooter=3)"
      ],
      "execution_count": 1,
      "outputs": []
    },
    {
      "cell_type": "code",
      "metadata": {
        "id": "0f1WqdPlxEbB",
        "colab_type": "code",
        "colab": {
          "base_uri": "https://localhost:8080/",
          "height": 204
        },
        "outputId": "74f36c3c-5375-439a-8834-857cc62ffd8c"
      },
      "source": [
        "dataset.head()"
      ],
      "execution_count": 2,
      "outputs": [
        {
          "output_type": "execute_result",
          "data": {
            "text/html": [
              "<div>\n",
              "<style scoped>\n",
              "    .dataframe tbody tr th:only-of-type {\n",
              "        vertical-align: middle;\n",
              "    }\n",
              "\n",
              "    .dataframe tbody tr th {\n",
              "        vertical-align: top;\n",
              "    }\n",
              "\n",
              "    .dataframe thead th {\n",
              "        text-align: right;\n",
              "    }\n",
              "</style>\n",
              "<table border=\"1\" class=\"dataframe\">\n",
              "  <thead>\n",
              "    <tr style=\"text-align: right;\">\n",
              "      <th></th>\n",
              "      <th>International airline passengers: monthly totals in thousands. Jan 49 ? Dec 60</th>\n",
              "    </tr>\n",
              "  </thead>\n",
              "  <tbody>\n",
              "    <tr>\n",
              "      <th>0</th>\n",
              "      <td>112</td>\n",
              "    </tr>\n",
              "    <tr>\n",
              "      <th>1</th>\n",
              "      <td>118</td>\n",
              "    </tr>\n",
              "    <tr>\n",
              "      <th>2</th>\n",
              "      <td>132</td>\n",
              "    </tr>\n",
              "    <tr>\n",
              "      <th>3</th>\n",
              "      <td>129</td>\n",
              "    </tr>\n",
              "    <tr>\n",
              "      <th>4</th>\n",
              "      <td>121</td>\n",
              "    </tr>\n",
              "  </tbody>\n",
              "</table>\n",
              "</div>"
            ],
            "text/plain": [
              "   International airline passengers: monthly totals in thousands. Jan 49 ? Dec 60\n",
              "0                                                112                             \n",
              "1                                                118                             \n",
              "2                                                132                             \n",
              "3                                                129                             \n",
              "4                                                121                             "
            ]
          },
          "metadata": {
            "tags": []
          },
          "execution_count": 2
        }
      ]
    },
    {
      "cell_type": "code",
      "metadata": {
        "id": "m3U_QbquxM51",
        "colab_type": "code",
        "colab": {
          "base_uri": "https://localhost:8080/",
          "height": 265
        },
        "outputId": "c8255036-9016-4512-fe0c-0eb139a55071"
      },
      "source": [
        "# Fazendo print da série no dataset;\n",
        "\n",
        "import matplotlib.pyplot as plt\n",
        "\n",
        "plt.plot(dataset)\n",
        "plt.show()"
      ],
      "execution_count": 3,
      "outputs": [
        {
          "output_type": "display_data",
          "data": {
            "image/png": "[encoded data removed]",
            "text/plain": [
              "<Figure size 432x288 with 1 Axes>"
            ]
          },
          "metadata": {
            "tags": [],
            "needs_background": "light"
          }
        }
      ]
    },
    {
      "cell_type": "code",
      "metadata": {
        "id": "HjlqyKKMxau4",
        "colab_type": "code",
        "colab": {}
      },
      "source": [
        "import numpy\n",
        "import matplotlib.pyplot as plt\n",
        "import pandas\n",
        "import math\n",
        "from keras.models import Sequential\n",
        "from keras.layers import Dense\n",
        "from keras.layers import LSTM\n",
        "from sklearn.preprocessing import MinMaxScaler\n",
        "from sklearn.metrics import mean_squared_error"
      ],
      "execution_count": 4,
      "outputs": []
    },
    {
      "cell_type": "code",
      "metadata": {
        "id": "fxrzZGxLxepu",
        "colab_type": "code",
        "colab": {}
      },
      "source": [
        "numpy.random.seed(7)"
      ],
      "execution_count": 5,
      "outputs": []
    },
    {
      "cell_type": "code",
      "metadata": {
        "id": "BfWEHLAOxh4w",
        "colab_type": "code",
        "colab": {}
      },
      "source": [
        "# Inicialmente convertemos o nosso dataset em um array de uma dimensão.\n",
        "\n",
        "dataset = dataset.values\n",
        "dataset = dataset.astype('float32')"
      ],
      "execution_count": 7,
      "outputs": []
    },
    {
      "cell_type": "code",
      "metadata": {
        "id": "fEauERXSxoxN",
        "colab_type": "code",
        "colab": {
          "base_uri": "https://localhost:8080/",
          "height": 102
        },
        "outputId": "6498be24-6160-47d9-babc-34b2ff2275c8"
      },
      "source": [
        "# Visualizando nossa transformação\n",
        "dataset[:5]\n"
      ],
      "execution_count": 8,
      "outputs": [
        {
          "output_type": "execute_result",
          "data": {
            "text/plain": [
              "array([[112.],\n",
              "       [118.],\n",
              "       [132.],\n",
              "       [129.],\n",
              "       [121.]], dtype=float32)"
            ]
          },
          "metadata": {
            "tags": []
          },
          "execution_count": 8
        }
      ]
    },
    {
      "cell_type": "markdown",
      "metadata": {
        "id": "EllbphE4x_ve",
        "colab_type": "text"
      },
      "source": [
        "**Normalização**\n",
        "\n",
        "Afim de uma melhor aprendizado da rede, realizaremos uma normalização nos dados. Podemos utilizar a classe MinMaxScaler para esta tarefa, onde a mesma consistem em modificar a escala do dados para um intervalo desejado (o até um número especificado). Logo para o nosso exemplo utilizaremos a escala de 0 até 1."
      ]
    },
    {
      "cell_type": "code",
      "metadata": {
        "id": "AaNCsQD-xxf3",
        "colab_type": "code",
        "colab": {}
      },
      "source": [
        "scaler = MinMaxScaler(feature_range=(0, 1))\n",
        "dataset = scaler.fit_transform(dataset)"
      ],
      "execution_count": 9,
      "outputs": []
    },
    {
      "cell_type": "code",
      "metadata": {
        "id": "PBo6yPL-yKhd",
        "colab_type": "code",
        "colab": {
          "base_uri": "https://localhost:8080/",
          "height": 187
        },
        "outputId": "7d9c8687-fdbd-4d9f-f249-19313682871e"
      },
      "source": [
        "#Visualizando nosso conjunto de dados\n",
        "\n",
        "dataset[:10]\n"
      ],
      "execution_count": 11,
      "outputs": [
        {
          "output_type": "execute_result",
          "data": {
            "text/plain": [
              "array([[0.01544401],\n",
              "       [0.02702703],\n",
              "       [0.05405405],\n",
              "       [0.04826255],\n",
              "       [0.03281853],\n",
              "       [0.05984557],\n",
              "       [0.08494207],\n",
              "       [0.08494207],\n",
              "       [0.06177607],\n",
              "       [0.02895753]], dtype=float32)"
            ]
          },
          "metadata": {
            "tags": []
          },
          "execution_count": 11
        }
      ]
    },
    {
      "cell_type": "markdown",
      "metadata": {
        "id": "l9FVf6lFyX5N",
        "colab_type": "text"
      },
      "source": [
        "**Separação dos dados**\n",
        "\n",
        "Separando manualmente o dataset, escolheremos 2/3 para o conjunto de test e 1/3 para o conjunto de treinamento"
      ]
    },
    {
      "cell_type": "code",
      "metadata": {
        "id": "FQQz1a6ayQ09",
        "colab_type": "code",
        "colab": {}
      },
      "source": [
        "train_size = int(len(dataset) * 0.67)\n",
        "test_size = len(dataset) - train_size\n",
        "train, test = dataset[0:train_size,:], dataset[train_size:len(dataset),:]\n"
      ],
      "execution_count": 13,
      "outputs": []
    },
    {
      "cell_type": "code",
      "metadata": {
        "id": "qCR43uT1ylHa",
        "colab_type": "code",
        "colab": {
          "base_uri": "https://localhost:8080/",
          "height": 68
        },
        "outputId": "bf6a3d93-1441-48c3-c11b-59d7ac53f371"
      },
      "source": [
        "print(\"Tamanho do dataset:\",len(dataset))\n",
        "print(\"Tamanho do conjunto de treino:\",len(train))\n",
        "print(\"Tamanho do conjunto de Teste:\",len(test))"
      ],
      "execution_count": 18,
      "outputs": [
        {
          "output_type": "stream",
          "text": [
            "Tamanho do dataset: 144\n",
            "Tamanho do conjunto de treino: 96\n",
            "Tamanho do conjunto de Teste: 48\n"
          ],
          "name": "stdout"
        }
      ]
    },
    {
      "cell_type": "markdown",
      "metadata": {
        "id": "mb5uStdHzVDi",
        "colab_type": "text"
      },
      "source": [
        "**Criação do dataset**\n",
        "\n",
        "Agora nós podemos definir a função de criação do dataset. Essa função consiste de dois argumentos, o dataset e uma valor de **look back** (valor responsável por definir quantos elementos serãm usador para previsão). Por padrão definimos look back = 1. Logo para todo tempo t+1 tentaremos predizzer o mesmo somente com 1 valor t.\n",
        "\n",
        "Exemplo : Para a série : 112, 118, 132, 129, 121, 135... usando o lookback = 1:\n",
        "\n",
        "![lookback1.png](https://raw.githubusercontent.com/Reis25/Testes_py/master/lookback1.png)\n",
        "\n",
        "paraa mesma base de dados (série) com o look back = 2, temos: \n",
        "\n",
        "![lookback2.png](https://raw.githubusercontent.com/Reis25/Testes_py/master/lookback2.png)\n",
        "\n",
        "Criando a função em seguida temos: "
      ]
    },
    {
      "cell_type": "code",
      "metadata": {
        "id": "v4u4gg4bzTuQ",
        "colab_type": "code",
        "colab": {}
      },
      "source": [
        "def create_dataset(dataset, look_back=1):\n",
        "\tdataX, dataY = [], []\n",
        "\tfor i in range(len(dataset)-look_back-1):\n",
        "\t\ta = dataset[i:(i+look_back), 0]\n",
        "\t\tdataX.append(a)\n",
        "\t\tdataY.append(dataset[i + look_back, 0])\n",
        "\treturn numpy.array(dataX), numpy.array(dataY)"
      ],
      "execution_count": 20,
      "outputs": []
    },
    {
      "cell_type": "code",
      "metadata": {
        "id": "gpYB2raK2KDi",
        "colab_type": "code",
        "colab": {}
      },
      "source": [
        "look_back = 1\n",
        "trainX, trainY = create_dataset(train, look_back)\n",
        "testX, testY = create_dataset(test, look_back)"
      ],
      "execution_count": 21,
      "outputs": []
    },
    {
      "cell_type": "code",
      "metadata": {
        "id": "7QUfA9dN2KNW",
        "colab_type": "code",
        "colab": {}
      },
      "source": [
        "trainX = numpy.reshape(trainX, (trainX.shape[0], 1, trainX.shape[1]))\n",
        "testX = numpy.reshape(testX, (testX.shape[0], 1, testX.shape[1]))"
      ],
      "execution_count": 22,
      "outputs": []
    },
    {
      "cell_type": "code",
      "metadata": {
        "id": "mCzy8uZk2MLS",
        "colab_type": "code",
        "colab": {
          "base_uri": "https://localhost:8080/",
          "height": 1000
        },
        "outputId": "19636b72-755c-41a5-aba6-c5632c58b811"
      },
      "source": [
        "model = Sequential()\n",
        "model.add(LSTM(4, input_shape=(1, look_back)))\n",
        "model.add(Dense(1))\n",
        "model.compile(loss='mean_squared_error', optimizer='adam')\n",
        "model.fit(trainX, trainY, epochs=100, batch_size=1, verbose=2)"
      ],
      "execution_count": 23,
      "outputs": [
        {
          "output_type": "stream",
          "text": [
            "Epoch 1/100\n",
            "94/94 - 0s - loss: 0.0265\n",
            "Epoch 2/100\n",
            "94/94 - 0s - loss: 0.0126\n",
            "Epoch 3/100\n",
            "94/94 - 0s - loss: 0.0098\n",
            "Epoch 4/100\n",
            "94/94 - 0s - loss: 0.0089\n",
            "Epoch 5/100\n",
            "94/94 - 0s - loss: 0.0081\n",
            "Epoch 6/100\n",
            "94/94 - 0s - loss: 0.0073\n",
            "Epoch 7/100\n",
            "94/94 - 0s - loss: 0.0064\n",
            "Epoch 8/100\n",
            "94/94 - 0s - loss: 0.0055\n",
            "Epoch 9/100\n",
            "94/94 - 0s - loss: 0.0047\n",
            "Epoch 10/100\n",
            "94/94 - 0s - loss: 0.0041\n",
            "Epoch 11/100\n",
            "94/94 - 0s - loss: 0.0035\n",
            "Epoch 12/100\n",
            "94/94 - 0s - loss: 0.0030\n",
            "Epoch 13/100\n",
            "94/94 - 0s - loss: 0.0027\n",
            "Epoch 14/100\n",
            "94/94 - 0s - loss: 0.0024\n",
            "Epoch 15/100\n",
            "94/94 - 0s - loss: 0.0022\n",
            "Epoch 16/100\n",
            "94/94 - 0s - loss: 0.0021\n",
            "Epoch 17/100\n",
            "94/94 - 0s - loss: 0.0021\n",
            "Epoch 18/100\n",
            "94/94 - 0s - loss: 0.0020\n",
            "Epoch 19/100\n",
            "94/94 - 0s - loss: 0.0020\n",
            "Epoch 20/100\n",
            "94/94 - 0s - loss: 0.0019\n",
            "Epoch 21/100\n",
            "94/94 - 0s - loss: 0.0020\n",
            "Epoch 22/100\n",
            "94/94 - 0s - loss: 0.0020\n",
            "Epoch 23/100\n",
            "94/94 - 0s - loss: 0.0020\n",
            "Epoch 24/100\n",
            "94/94 - 0s - loss: 0.0021\n",
            "Epoch 25/100\n",
            "94/94 - 0s - loss: 0.0020\n",
            "Epoch 26/100\n",
            "94/94 - 0s - loss: 0.0020\n",
            "Epoch 27/100\n",
            "94/94 - 0s - loss: 0.0020\n",
            "Epoch 28/100\n",
            "94/94 - 0s - loss: 0.0020\n",
            "Epoch 29/100\n",
            "94/94 - 0s - loss: 0.0019\n",
            "Epoch 30/100\n",
            "94/94 - 0s - loss: 0.0019\n",
            "Epoch 31/100\n",
            "94/94 - 0s - loss: 0.0020\n",
            "Epoch 32/100\n",
            "94/94 - 0s - loss: 0.0019\n",
            "Epoch 33/100\n",
            "94/94 - 0s - loss: 0.0019\n",
            "Epoch 34/100\n",
            "94/94 - 0s - loss: 0.0020\n",
            "Epoch 35/100\n",
            "94/94 - 0s - loss: 0.0020\n",
            "Epoch 36/100\n",
            "94/94 - 0s - loss: 0.0020\n",
            "Epoch 37/100\n",
            "94/94 - 0s - loss: 0.0020\n",
            "Epoch 38/100\n",
            "94/94 - 0s - loss: 0.0020\n",
            "Epoch 39/100\n",
            "94/94 - 0s - loss: 0.0020\n",
            "Epoch 40/100\n",
            "94/94 - 0s - loss: 0.0020\n",
            "Epoch 41/100\n",
            "94/94 - 0s - loss: 0.0020\n",
            "Epoch 42/100\n",
            "94/94 - 0s - loss: 0.0020\n",
            "Epoch 43/100\n",
            "94/94 - 0s - loss: 0.0020\n",
            "Epoch 44/100\n",
            "94/94 - 0s - loss: 0.0020\n",
            "Epoch 45/100\n",
            "94/94 - 0s - loss: 0.0020\n",
            "Epoch 46/100\n",
            "94/94 - 0s - loss: 0.0020\n",
            "Epoch 47/100\n",
            "94/94 - 0s - loss: 0.0020\n",
            "Epoch 48/100\n",
            "94/94 - 0s - loss: 0.0020\n",
            "Epoch 49/100\n",
            "94/94 - 0s - loss: 0.0020\n",
            "Epoch 50/100\n",
            "94/94 - 0s - loss: 0.0020\n",
            "Epoch 51/100\n",
            "94/94 - 0s - loss: 0.0020\n",
            "Epoch 52/100\n",
            "94/94 - 0s - loss: 0.0020\n",
            "Epoch 53/100\n",
            "94/94 - 0s - loss: 0.0020\n",
            "Epoch 54/100\n",
            "94/94 - 0s - loss: 0.0020\n",
            "Epoch 55/100\n",
            "94/94 - 0s - loss: 0.0020\n",
            "Epoch 56/100\n",
            "94/94 - 0s - loss: 0.0020\n",
            "Epoch 57/100\n",
            "94/94 - 0s - loss: 0.0020\n",
            "Epoch 58/100\n",
            "94/94 - 0s - loss: 0.0020\n",
            "Epoch 59/100\n",
            "94/94 - 0s - loss: 0.0020\n",
            "Epoch 60/100\n",
            "94/94 - 0s - loss: 0.0021\n",
            "Epoch 61/100\n",
            "94/94 - 0s - loss: 0.0020\n",
            "Epoch 62/100\n",
            "94/94 - 0s - loss: 0.0020\n",
            "Epoch 63/100\n",
            "94/94 - 0s - loss: 0.0020\n",
            "Epoch 64/100\n",
            "94/94 - 0s - loss: 0.0020\n",
            "Epoch 65/100\n",
            "94/94 - 0s - loss: 0.0020\n",
            "Epoch 66/100\n",
            "94/94 - 0s - loss: 0.0020\n",
            "Epoch 67/100\n",
            "94/94 - 0s - loss: 0.0020\n",
            "Epoch 68/100\n",
            "94/94 - 0s - loss: 0.0021\n",
            "Epoch 69/100\n",
            "94/94 - 0s - loss: 0.0020\n",
            "Epoch 70/100\n",
            "94/94 - 0s - loss: 0.0020\n",
            "Epoch 71/100\n",
            "94/94 - 0s - loss: 0.0020\n",
            "Epoch 72/100\n",
            "94/94 - 0s - loss: 0.0019\n",
            "Epoch 73/100\n",
            "94/94 - 0s - loss: 0.0020\n",
            "Epoch 74/100\n",
            "94/94 - 0s - loss: 0.0020\n",
            "Epoch 75/100\n",
            "94/94 - 0s - loss: 0.0020\n",
            "Epoch 76/100\n",
            "94/94 - 0s - loss: 0.0020\n",
            "Epoch 77/100\n",
            "94/94 - 0s - loss: 0.0020\n",
            "Epoch 78/100\n",
            "94/94 - 0s - loss: 0.0020\n",
            "Epoch 79/100\n",
            "94/94 - 0s - loss: 0.0019\n",
            "Epoch 80/100\n",
            "94/94 - 0s - loss: 0.0019\n",
            "Epoch 81/100\n",
            "94/94 - 0s - loss: 0.0020\n",
            "Epoch 82/100\n",
            "94/94 - 0s - loss: 0.0020\n",
            "Epoch 83/100\n",
            "94/94 - 0s - loss: 0.0020\n",
            "Epoch 84/100\n",
            "94/94 - 0s - loss: 0.0020\n",
            "Epoch 85/100\n",
            "94/94 - 0s - loss: 0.0019\n",
            "Epoch 86/100\n",
            "94/94 - 0s - loss: 0.0019\n",
            "Epoch 87/100\n",
            "94/94 - 0s - loss: 0.0019\n",
            "Epoch 88/100\n",
            "94/94 - 0s - loss: 0.0021\n",
            "Epoch 89/100\n",
            "94/94 - 0s - loss: 0.0020\n",
            "Epoch 90/100\n",
            "94/94 - 0s - loss: 0.0020\n",
            "Epoch 91/100\n",
            "94/94 - 0s - loss: 0.0020\n",
            "Epoch 92/100\n",
            "94/94 - 0s - loss: 0.0020\n",
            "Epoch 93/100\n",
            "94/94 - 0s - loss: 0.0020\n",
            "Epoch 94/100\n",
            "94/94 - 0s - loss: 0.0020\n",
            "Epoch 95/100\n",
            "94/94 - 0s - loss: 0.0020\n",
            "Epoch 96/100\n",
            "94/94 - 0s - loss: 0.0020\n",
            "Epoch 97/100\n",
            "94/94 - 0s - loss: 0.0020\n",
            "Epoch 98/100\n",
            "94/94 - 0s - loss: 0.0019\n",
            "Epoch 99/100\n",
            "94/94 - 0s - loss: 0.0020\n",
            "Epoch 100/100\n",
            "94/94 - 0s - loss: 0.0020\n"
          ],
          "name": "stdout"
        },
        {
          "output_type": "execute_result",
          "data": {
            "text/plain": [
              "<tensorflow.python.keras.callbacks.History at 0x7fd67d14f550>"
            ]
          },
          "metadata": {
            "tags": []
          },
          "execution_count": 23
        }
      ]
    },
    {
      "cell_type": "code",
      "metadata": {
        "id": "y4o3DqIy2an_",
        "colab_type": "code",
        "colab": {
          "base_uri": "https://localhost:8080/",
          "height": 51
        },
        "outputId": "d3b3de90-a8f2-4838-8572-d0a837234cf0"
      },
      "source": [
        "trainPredict = model.predict(trainX)\n",
        "testPredict = model.predict(testX)\n",
        "\n",
        "# inverte predição\n",
        "\n",
        "trainPredict = scaler.inverse_transform(trainPredict)\n",
        "trainY = scaler.inverse_transform([trainY])\n",
        "testPredict = scaler.inverse_transform(testPredict)\n",
        "testY = scaler.inverse_transform([testY])\n",
        "\n",
        "# calcula Erro quadrado médio\n",
        "\n",
        "trainScore = math.sqrt(mean_squared_error(trainY[0], trainPredict[:,0]))\n",
        "print('Train Score: %.2f RMSE' % (trainScore))\n",
        "testScore = math.sqrt(mean_squared_error(testY[0], testPredict[:,0]))\n",
        "print('Test Score: %.2f RMSE' % (testScore))"
      ],
      "execution_count": 24,
      "outputs": [
        {
          "output_type": "stream",
          "text": [
            "Train Score: 22.78 RMSE\n",
            "Test Score: 55.32 RMSE\n"
          ],
          "name": "stdout"
        }
      ]
    },
    {
      "cell_type": "code",
      "metadata": {
        "id": "WFcrG0kI2bSe",
        "colab_type": "code",
        "colab": {
          "base_uri": "https://localhost:8080/",
          "height": 265
        },
        "outputId": "7b686527-d8e9-4cce-9639-5d486c2eee6b"
      },
      "source": [
        "trainPredictPlot = numpy.empty_like(dataset)\n",
        "trainPredictPlot[:, :] = numpy.nan\n",
        "trainPredictPlot[look_back:len(trainPredict)+look_back, :] = trainPredict\n",
        "\n",
        "# shift predição de test\n",
        "\n",
        "testPredictPlot = numpy.empty_like(dataset)\n",
        "testPredictPlot[:, :] = numpy.nan\n",
        "testPredictPlot[len(trainPredict)+(look_back*2)+1:len(dataset)-1, :] = testPredict\n",
        "\n",
        "# plot baseline\n",
        "\n",
        "plt.plot(scaler.inverse_transform(dataset))\n",
        "plt.plot(trainPredictPlot)\n",
        "plt.plot(testPredictPlot)\n",
        "plt.show()"
      ],
      "execution_count": 25,
      "outputs": [
        {
          "output_type": "display_data",
          "data": {
            "image/png": "[encoded data removed]",
            "text/plain": [
              "<Figure size 432x288 with 1 Axes>"
            ]
          },
          "metadata": {
            "tags": [],
            "needs_background": "light"
          }
        }
      ]
    }
  ]
}